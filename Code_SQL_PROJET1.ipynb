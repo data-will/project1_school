{
  "nbformat": 4,
  "nbformat_minor": 0,
  "metadata": {
    "colab": {
      "provenance": []
    },
    "kernelspec": {
      "name": "python3",
      "display_name": "Python 3"
    },
    "language_info": {
      "name": "python"
    }
  },
  "cells": [
    {
      "cell_type": "markdown",
      "source": [
        "## **VENTE**\n",
        "\n"
      ],
      "metadata": {
        "id": "qe5SV_ve2XD1"
      }
    },
    {
      "cell_type": "code",
      "execution_count": null,
      "metadata": {
        "id": "O5sh9nPm2TOc"
      },
      "outputs": [],
      "source": [
        "# Création d'une vue avec le total des quantité commandé sur une année glissante.\n",
        "CREATE VIEW quantity_now AS\n",
        "    SELECT\n",
        "    p.productLine,\n",
        "    YEAR(orderDate) AS year,\n",
        "    MONTH(orderDate) AS month,\n",
        "    SUM(od.quantityOrdered) AS total_quantity\n",
        "FROM\n",
        "    products AS p\n",
        "INNER JOIN\n",
        "    productlines AS pl ON pl.productLine = p.productLine\n",
        "INNER JOIN\n",
        "    orderdetails AS od ON od.productCode = p.productCode\n",
        "INNER JOIN\n",
        "    orders ON orders.orderNumber = od.orderNumber\n",
        "WHERE\n",
        "    orderDate >= DATE_SUB((SELECT MAX(orderDate) FROM orders), INTERVAL 11 MONTH)\n",
        "GROUP BY\n",
        "    p.productLine, year, month;\n",
        "\n",
        "\n",
        "\n",
        "# Création d'une vue avec le total des quantité commandé sur une année glissante a-2.\n",
        "CREATE VIEW quantity_last_year AS\n",
        "    SELECT\n",
        "    p.productLine,\n",
        "    YEAR(orderDate) AS year,\n",
        "    MONTH(orderDate) AS month,\n",
        "    SUM(od.quantityOrdered) AS total_quantity\n",
        "FROM\n",
        "    products AS p\n",
        "INNER JOIN\n",
        "    productlines AS pl ON pl.productLine = p.productLine\n",
        "INNER JOIN\n",
        "    orderdetails AS od ON od.productCode = p.productCode\n",
        "INNER JOIN\n",
        "    orders ON orders.orderNumber = od.orderNumber\n",
        "WHERE\n",
        "    orderDate >= DATE_SUB((SELECT MAX(orderDate) FROM orders), INTERVAL 23 MONTH)\n",
        "    AND orderDate < DATE_SUB((SELECT MAX(orderDate) FROM orders), INTERVAL 11 MONTH)\n",
        "GROUP BY\n",
        "    p.productLine, year, month;\n",
        "\n",
        "\n",
        "# Jointure entre les deux vue, avec création d'une colonne variation permettant de connaitre le taux de variation entre les deux années glissantes.\n",
        "SELECT\n",
        "    qn.productLine,\n",
        "    qn.year,\n",
        "    qn.month,\n",
        "    qn.total_quantity,\n",
        "    qly.total_quantity AS quantity_last_year,\n",
        "    ROUND(((qn.total_quantity-qly.total_quantity)/qly.total_quantity)*100, 2) AS variation\n",
        "    quantity_now AS qn\n",
        "LEFT JOIN\n",
        "    quantity_last_year AS qly ON qn.productLine = qly.productLine AND qly.month = qn.month\n",
        "    year DESC, month DESC"
      ]
    },
    {
      "cell_type": "markdown",
      "source": [
        "# FINANCE"
      ],
      "metadata": {
        "id": "DFstGn1k2cn1"
      }
    },
    {
      "cell_type": "code",
      "source": [
        "#Question 1 :\n",
        "\n",
        "# Création d'une vue pour permettant de connaitre le chiffre d'affaire des deux derniers mois.\n",
        "CREATE VIEW two_month_amount AS\n",
        "SELECT\n",
        "    c.country,\n",
        "    SUM(amount) AS chiffre_affaire\n",
        "FROM\n",
        "    payments p\n",
        "JOIN\n",
        "    customers c ON p.customerNumber = c.customerNumber\n",
        "WHERE\n",
        "    YEAR(paymentDate) = (SELECT YEAR(MAX(paymentDate)) FROM payments) AND\n",
        "    MONTH(paymentDate) BETWEEN MONTH((SELECT MAX(paymentDate) FROM payments)) - 2 AND MONTH((SELECT MAX(paymentDate) FROM payments)) - 1\n",
        "GROUP BY\n",
        "    c.country;\n",
        "\n",
        "#Question 2 :\n",
        "\n",
        "# Création d'une vue permettant de récuperer les commandes non payés.\n",
        "CREATE VIEW on_hold_status AS\n",
        "SELECT\n",
        "    c.customerNumber,\n",
        "    c.customerName,\n",
        "    pay.paymentDate,\n",
        "    o.status,\n",
        "    o.comments\n",
        "FROM\n",
        "    customers c\n",
        "JOIN\n",
        "    orders o ON c.customerNumber = o.customerNumber\n",
        "JOIN\n",
        "    payments pay ON o.customerNumber = pay.customerNumber\n",
        "WHERE\n",
        "    status = 'On Hold' AND paymentDate = '2023-06-29' ; # on exclus les commandes envoyé, résolue et annulé pour ne garder que les commandes non payés."
      ],
      "metadata": {
        "id": "yT3UKRn92cJJ"
      },
      "execution_count": null,
      "outputs": []
    },
    {
      "cell_type": "markdown",
      "source": [
        "# PARTIE RESSOURCE HUMAINE\n"
      ],
      "metadata": {
        "id": "XgMSVivY5c1I"
      }
    },
    {
      "cell_type": "code",
      "source": [
        "# Création d'une vue permettant d'avoir, à partir de la dernière date mis à jour, les 2 employés ayant fais le plus de chiffre d'affaire le mois dernier.\n",
        "\n",
        "CREATE VIEW best_employee AS\n",
        "SELECT\n",
        "    c.salesRepEmployeeNumber as employee_ID,\n",
        "    firstName,\n",
        "    lastName,\n",
        "    SUM(p.amount) AS total_turnover,\n",
        "    YEAR(p.paymentDate) AS year,\n",
        "    MONTH(p.paymentDate) AS month\n",
        "FROM\n",
        "    payments as p\n",
        "INNER JOIN\n",
        "    customers as c ON p.customerNumber = c.customerNumber\n",
        "INNER JOIN\n",
        "    employees as e ON c.salesRepEmployeeNumber = e.employeeNumber\n",
        "WHERE\n",
        "   YEAR(p.paymentDate) = (SELECT YEAR(MAX(paymentDate)) FROM payments) AND\n",
        "   MONTH(p.paymentDate) = (SELECT MONTH(MAX(paymentDate)) FROM payments) - 1\n",
        "GROUP BY\n",
        "    year, MONTH(p.paymentDate), employee_ID, firstName, lastName\n",
        "ORDER BY\n",
        "    total_turnover DESC\n",
        "LIMIT 2;"
      ],
      "metadata": {
        "id": "jmB0pLKR5b1O"
      },
      "execution_count": null,
      "outputs": []
    },
    {
      "cell_type": "markdown",
      "source": [
        "# LOGISTIQUE"
      ],
      "metadata": {
        "id": "p40WyaeX5bra"
      }
    },
    {
      "cell_type": "code",
      "source": [
        "# Création d'une vue permettant de connaitre le stock des 5 produits les plus commandés grâce à l'utilisation d'une sous-requête.\n",
        "\n",
        "CREATE VIEW stock_best_ordered AS\n",
        "SELECT\n",
        "   *\n",
        "FROM (\n",
        "    SELECT p.productName,SUM(od.quantityOrdered) AS totalQuantityOrdered, p.quantityInStock,\n",
        "    RANK() OVER (ORDER BY SUM(od.quantityOrdered) DESC) AS product_rank\n",
        "    FROM orderdetails AS od\n",
        "    INNER JOIN products AS p ON p.productCode = od.productCode\n",
        "    GROUP BY p.productName,p.quantityInStock\n",
        ") AS ranked_products\n",
        "WHERE product_rank <= 5;"
      ],
      "metadata": {
        "id": "9FpefgIR8tjV"
      },
      "execution_count": null,
      "outputs": []
    }
  ]
}